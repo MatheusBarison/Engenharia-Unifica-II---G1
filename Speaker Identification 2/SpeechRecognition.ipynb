{
 "cells": [
  {
   "cell_type": "code",
   "execution_count": 1,
   "id": "8cee6881",
   "metadata": {},
   "outputs": [
    {
     "name": "stdout",
     "output_type": "stream",
     "text": [
      "Say Something\n",
      "result2:\n",
      "{   'alternative': [   {   'confidence': 0.95685667,\n",
      "                           'transcript': 'say something to you hear me now'},\n",
      "                       {'transcript': 'say something to you hear me know'},\n",
      "                       {'transcript': 'say something to you here me now'},\n",
      "                       {'transcript': 'say something to you hear me no'},\n",
      "                       {'transcript': 'say something to you here me know'}],\n",
      "    'final': True}\n",
      "You said: say something to you hear me now\n"
     ]
    }
   ],
   "source": [
    "import speech_recognition as sr\n",
    "a = sr.Recognizer()\n",
    "with sr.Microphone() as source:\n",
    "    print(\"Say Something\")\n",
    "    audio = a.listen(source)\n",
    "    try:\n",
    "        text = a.recognize_google(audio)\n",
    "        print(\"You said: {}\".format(text))\n",
    "        \n",
    "    except:\n",
    "        print(\"I cant understand\")"
   ]
  },
  {
   "cell_type": "code",
   "execution_count": null,
   "id": "a650631f",
   "metadata": {},
   "outputs": [],
   "source": []
  },
  {
   "cell_type": "code",
   "execution_count": null,
   "id": "a15f2049",
   "metadata": {},
   "outputs": [],
   "source": []
  }
 ],
 "metadata": {
  "kernelspec": {
   "display_name": "Python 3 (ipykernel)",
   "language": "python",
   "name": "python3"
  },
  "language_info": {
   "codemirror_mode": {
    "name": "ipython",
    "version": 3
   },
   "file_extension": ".py",
   "mimetype": "text/x-python",
   "name": "python",
   "nbconvert_exporter": "python",
   "pygments_lexer": "ipython3",
   "version": "3.9.13"
  }
 },
 "nbformat": 4,
 "nbformat_minor": 5
}
